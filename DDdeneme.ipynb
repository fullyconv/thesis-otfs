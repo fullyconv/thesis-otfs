{
 "cells": [
  {
   "cell_type": "code",
   "execution_count": 6,
   "id": "0aff9887",
   "metadata": {},
   "outputs": [],
   "source": [
    "import torch\n",
    "import math\n",
    "\n",
    "def generate_delay_doppler_channel_parameters_torch(N, M, car_fre, delta_f, T, max_speed, device='cpu'):\n",
    "    one_delay_tap = 1 / (M * delta_f)\n",
    "    one_doppler_tap = 1 / (N * T)\n",
    "\n",
    "    delays = torch.tensor([0, 30, 150, 310, 370, 710, 1090, 1730, 2510], dtype=torch.float32, device=device) * 1e-9\n",
    "    taps = delays.numel()\n",
    "    delay_taps = torch.round(delays / one_delay_tap).int()\n",
    "\n",
    "    pdp = torch.tensor([0, -1.5, -1.4, -3.6, -0.6, -9.1, -7.0, -12.0, -16.9], dtype=torch.float32, device=device)\n",
    "    pow_prof = 10 ** (pdp / 10)\n",
    "    pow_prof = pow_prof / pow_prof.sum()\n",
    "\n",
    "    # complex fading\n",
    "    real = torch.randn(1, taps, device=device)\n",
    "    imag = torch.randn(1, taps, device=device)\n",
    "    chan_coef = torch.sqrt(pow_prof) * math.sqrt(0.5) * (real + 1j * imag)\n",
    "\n",
    "    max_UE_speed = max_speed * 1000 / 3600\n",
    "    Doppler_vel = (max_UE_speed * car_fre) / 299792458.0\n",
    "    max_Doppler_tap = Doppler_vel / one_doppler_tap\n",
    "    Doppler_taps = max_Doppler_tap * torch.cos(2 * math.pi * torch.rand(1, taps, device=device))\n",
    "\n",
    "    return chan_coef, delay_taps, Doppler_taps, taps\n"
   ]
  },
  {
   "cell_type": "code",
   "execution_count": 9,
   "id": "05b92ca1",
   "metadata": {},
   "outputs": [
    {
     "ename": "ValueError",
     "evalue": "not enough values to unpack (expected 7, got 4)",
     "output_type": "error",
     "traceback": [
      "\u001b[31m---------------------------------------------------------------------------\u001b[39m",
      "\u001b[31mValueError\u001b[39m                                Traceback (most recent call last)",
      "\u001b[36mCell\u001b[39m\u001b[36m \u001b[39m\u001b[32mIn[9]\u001b[39m\u001b[32m, line 13\u001b[39m\n\u001b[32m     10\u001b[39m T = \u001b[32m1\u001b[39m / delta_f\n\u001b[32m     11\u001b[39m max_speed = \u001b[32m120\u001b[39m  \u001b[38;5;66;03m# km/h\u001b[39;00m\n\u001b[32m---> \u001b[39m\u001b[32m13\u001b[39m chan_coef, delay_taps, Doppler_taps, delays, pdp, pow_prof, taps = \\\n\u001b[32m     14\u001b[39m     generate_delay_doppler_channel_parameters_torch(N, M, car_fre, delta_f, T, max_speed)\n\u001b[32m     16\u001b[39m \u001b[38;5;66;03m# --- Print parameters ---\u001b[39;00m\n\u001b[32m     17\u001b[39m \u001b[38;5;28mprint\u001b[39m(\u001b[33m\"\u001b[39m\u001b[33mNumber of taps:\u001b[39m\u001b[33m\"\u001b[39m, taps)\n",
      "\u001b[31mValueError\u001b[39m: not enough values to unpack (expected 7, got 4)"
     ]
    }
   ],
   "source": [
    "import numpy as np\n",
    "import matplotlib.pyplot as plt\n",
    "\n",
    "\n",
    "# --- Example run ---\n",
    "N = 64\n",
    "M = 64\n",
    "car_fre = 28e9\n",
    "delta_f = 15e3\n",
    "T = 1 / delta_f\n",
    "max_speed = 120  # km/h\n",
    "\n",
    "chan_coef, delay_taps, Doppler_taps, delays, pdp, pow_prof, taps = \\\n",
    "    generate_delay_doppler_channel_parameters_torch(N, M, car_fre, delta_f, T, max_speed)\n",
    "\n",
    "# --- Print parameters ---\n",
    "print(\"Number of taps:\", taps)\n",
    "print(\"Delay taps:\", delay_taps)\n",
    "print(\"Doppler taps:\", np.round(Doppler_taps, 2))\n",
    "print(\"Complex channel coefficients:\")\n",
    "for i, c in enumerate(chan_coef):\n",
    "    print(f\"Tap {i+1}: |h|={np.abs(c):.3f}, ∠h={np.angle(c, deg=True):.1f}°\")\n",
    "\n",
    "\n",
    "# --- Visualization ---\n",
    "fig, axs = plt.subplots(1, 3, figsize=(15, 4))\n",
    "\n",
    "# Power Delay Profile\n",
    "axs[0].stem(delays * 1e9, 10 * np.log10(pow_prof), use_line_collection=True)\n",
    "axs[0].set_xlabel(\"Delay [ns]\")\n",
    "axs[0].set_ylabel(\"Power [dB]\")\n",
    "axs[0].set_title(\"EVA Power Delay Profile\")\n",
    "axs[0].grid(True)\n",
    "\n",
    "# Doppler Tap Distribution\n",
    "axs[1].stem(range(taps), Doppler_taps, use_line_collection=True)\n",
    "axs[1].set_xlabel(\"Tap Index\")\n",
    "axs[1].set_ylabel(\"Doppler Tap\")\n",
    "axs[1].set_title(\"Random Doppler Shifts (Jakes Model)\")\n",
    "axs[1].grid(True)\n",
    "\n",
    "# Channel Coefficient Magnitude & Phase\n",
    "axs[2].scatter(np.real(chan_coef), np.imag(chan_coef), color='r')\n",
    "axs[2].axhline(0, color='k', lw=0.5)\n",
    "axs[2].axvline(0, color='k', lw=0.5)\n",
    "axs[2].set_xlabel(\"Real(h)\")\n",
    "axs[2].set_ylabel(\"Imag(h)\")\n",
    "axs[2].set_title(\"Complex Channel Coefficients\")\n",
    "axs[2].grid(True)\n",
    "\n",
    "plt.tight_layout()\n",
    "plt.show()\n",
    "\n"
   ]
  }
 ],
 "metadata": {
  "kernelspec": {
   "display_name": "pyto",
   "language": "python",
   "name": "python3"
  },
  "language_info": {
   "codemirror_mode": {
    "name": "ipython",
    "version": 3
   },
   "file_extension": ".py",
   "mimetype": "text/x-python",
   "name": "python",
   "nbconvert_exporter": "python",
   "pygments_lexer": "ipython3",
   "version": "3.12.3"
  }
 },
 "nbformat": 4,
 "nbformat_minor": 5
}
